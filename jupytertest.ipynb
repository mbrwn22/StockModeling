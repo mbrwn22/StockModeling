{
 "cells": [
  {
   "cell_type": "code",
   "execution_count": null,
   "id": "d3c41e25",
   "metadata": {},
   "outputs": [],
   "source": [
    "print(\"hello world\")\n",
    "# Create list of required packages\n",
    "required_packages = [\"numpy\", \"pandas\", \"matplotlib\", \"scikit-learn\"]"
   ]
  }
 ],
 "metadata": {
  "language_info": {
   "name": "python"
  }
 },
 "nbformat": 4,
 "nbformat_minor": 5
}
